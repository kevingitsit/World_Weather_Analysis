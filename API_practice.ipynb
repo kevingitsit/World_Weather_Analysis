{
 "cells": [
  {
   "cell_type": "code",
   "execution_count": 21,
   "id": "550dbce5-0026-4f7d-9a26-628cbf8ada07",
   "metadata": {},
   "outputs": [
    {
     "data": {
      "text/plain": [
       "([25.12903645, 25.92017388, 26.62509167, -59.98969384, 37.30571269],\n",
       " [-67.59741259, 11.09532135, 74.84233102, -76.89176677, -61.13376282])"
      ]
     },
     "execution_count": 21,
     "metadata": {},
     "output_type": "execute_result"
    }
   ],
   "source": [
    "# Create a practice set of random latitude and longitude combinations.\n",
    "x = [25.12903645, 25.92017388, 26.62509167, -59.98969384, 37.30571269]\n",
    "y = [-67.59741259, 11.09532135, 74.84233102, -76.89176677, -61.13376282]\n",
    "\n",
    "coordinates = (x, y)\n",
    "coordinates"
   ]
  },
  {
   "cell_type": "code",
   "execution_count": 24,
   "id": "da26dbf4-8a7b-425b-877b-72b810dc5a39",
   "metadata": {},
   "outputs": [
    {
     "data": {
      "text/plain": [
       "74.84233102"
      ]
     },
     "execution_count": 24,
     "metadata": {},
     "output_type": "execute_result"
    }
   ],
   "source": [
    "coordinates[0][2]"
   ]
  },
  {
   "cell_type": "code",
   "execution_count": 29,
   "id": "32f685aa-b509-44cb-acd2-1e79b1c49ab5",
   "metadata": {},
   "outputs": [
    {
     "name": "stdout",
     "output_type": "stream",
     "text": [
      "25.12903645 25.92017388\n",
      "-67.59741259 11.09532135\n"
     ]
    }
   ],
   "source": [
    "# Use the tuple() function to display the latitude and longitude combinations.\n",
    "for coordinate in coordinates:\n",
    "  \n",
    "    print(coordinate[0], coordinate[1])\n"
   ]
  },
  {
   "cell_type": "code",
   "execution_count": 12,
   "id": "84ea1d72-aa71-4476-9efb-97bff32c1090",
   "metadata": {},
   "outputs": [],
   "source": [
    "# Use the citipy module to determine city based on latitude and longitude.\n"
   ]
  },
  {
   "cell_type": "code",
   "execution_count": 13,
   "id": "9b06592a-ad32-40e5-ac45-6a827964bafa",
   "metadata": {},
   "outputs": [],
   "source": [
    "from citipy import citipy"
   ]
  },
  {
   "cell_type": "code",
   "execution_count": 31,
   "id": "0244c614-e576-4f4d-b642-6d17ed28c963",
   "metadata": {},
   "outputs": [
    {
     "data": {
      "text/plain": [
       "2"
      ]
     },
     "execution_count": 31,
     "metadata": {},
     "output_type": "execute_result"
    }
   ],
   "source": [
    "# Create a list for holding the cities.\n",
    "cities = []\n",
    "# Identify the nearest city for each latitude and longitude combination.\n",
    "for coordinate in coordinates:\n",
    "    city = citipy.nearest_city(coordinate[0], coordinate[1]).city_name\n",
    "\n",
    "    # If the city is unique, then we will add it to the cities list.\n",
    "    if city not in cities:\n",
    "        cities.append(city)\n",
    "# Print the city count to confirm sufficient count.\n",
    "len(cities)"
   ]
  },
  {
   "cell_type": "code",
   "execution_count": null,
   "id": "71b13160-a9f5-4cbf-a499-b4fdbe731edd",
   "metadata": {},
   "outputs": [],
   "source": []
  }
 ],
 "metadata": {
  "kernelspec": {
   "display_name": "PythonData",
   "language": "python",
   "name": "pythondata"
  },
  "language_info": {
   "codemirror_mode": {
    "name": "ipython",
    "version": 3
   },
   "file_extension": ".py",
   "mimetype": "text/x-python",
   "name": "python",
   "nbconvert_exporter": "python",
   "pygments_lexer": "ipython3",
   "version": "3.8.8"
  }
 },
 "nbformat": 4,
 "nbformat_minor": 5
}
